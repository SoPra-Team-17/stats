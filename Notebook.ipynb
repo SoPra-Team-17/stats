{
 "cells": [
  {
   "cell_type": "markdown",
   "metadata": {},
   "source": [
    "# SoPra Team 17: Stats"
   ]
  },
  {
   "cell_type": "code",
   "execution_count": null,
   "metadata": {},
   "outputs": [],
   "source": [
    "from github import Github\n",
    "import requests\n",
    "from pprint import pprint\n",
    "import numpy as np\n",
    "import matplotlib.pyplot as plt\n",
    "\n",
    "token = \"\"\n",
    "g = Github(token)\n",
    "org = g.get_organization(\"SoPra-Team-17\")\n",
    "repos = org.get_repos()\n",
    "\n",
    "print(\"Got {} repos\".format(len(list(repos))))"
   ]
  },
  {
   "cell_type": "markdown",
   "metadata": {},
   "source": [
    "## Pull Requests"
   ]
  },
  {
   "cell_type": "code",
   "execution_count": null,
   "metadata": {
    "pycharm": {
     "name": "#%%\n"
    }
   },
   "outputs": [],
   "source": [
    "pulls = list()\n",
    "for repo in repos:\n",
    "    pulls += repo.get_pulls(state=\"all\")\n",
    "\n",
    "print(\"In total, {} pull requests have been submitted.\".format(len(pulls)))"
   ]
  },
  {
   "cell_type": "code",
   "execution_count": null,
   "metadata": {},
   "outputs": [],
   "source": [
    "merged = list()\n",
    "for pull in pulls:\n",
    "    if pull.merged:\n",
    "        merged.append(pull)\n",
    "        \n",
    "print(\"Out of those, {} pull requests were merged:\".format(len(merged)))"
   ]
  },
  {
   "cell_type": "code",
   "execution_count": null,
   "metadata": {},
   "outputs": [],
   "source": [
    "labels = [\"Merged\", \"Closed\"]\n",
    "numbers = [len(merged), len(pulls)-len(merged)]\n",
    "fig1, ax1 = plt.subplots()\n",
    "ax1.pie(numbers, labels=labels, startangle=90)\n",
    "ax1.axis(\"equal\")\n",
    "plt.show()"
   ]
  },
  {
   "cell_type": "code",
   "execution_count": null,
   "metadata": {},
   "outputs": [],
   "source": [
    "authors = {}\n",
    "for pull in pulls:\n",
    "    name = pull.user.name\n",
    "    if name is None:\n",
    "        name = pull.user.login\n",
    "    cnt = authors.get(name, 0)\n",
    "    authors[name] = cnt + 1\n",
    "\n",
    "fig1, ax1 = plt.subplots()\n",
    "ax1.set_title(\"Number of PRs by author\")\n",
    "ax1.pie(authors.values(), labels=authors.keys(), startangle=90, )\n",
    "ax1.axis(\"equal\")\n",
    "plt.show()"
   ]
  },
  {
   "cell_type": "markdown",
   "metadata": {},
   "source": [
    "### Reviews"
   ]
  },
  {
   "cell_type": "code",
   "execution_count": null,
   "metadata": {},
   "outputs": [],
   "source": [
    "reviews = list()\n",
    "for pull in pulls:\n",
    "    reviews += pull.get_reviews()\n",
    "    \n",
    "print(\"Got {} reviews\".format(len(reviews)))"
   ]
  },
  {
   "cell_type": "code",
   "execution_count": null,
   "metadata": {},
   "outputs": [],
   "source": [
    "reviewsByUser = {}\n",
    "for review in reviews:\n",
    "    name = review.user.name\n",
    "    if name is None:\n",
    "        name = review.user.login\n",
    "    cnt = reviewsByUser.get(name, 0)\n",
    "    reviewsByUser[name] = cnt + 1\n",
    "\n",
    "fig1, ax1 = plt.subplots()\n",
    "ax1.set_title(\"Number of reviews by author\")\n",
    "ax1.pie(reviewsByUser.values(), labels=reviewsByUser.keys(), startangle=90)\n",
    "ax1.axis(\"equal\")\n",
    "plt.show()"
   ]
  },
  {
   "cell_type": "markdown",
   "metadata": {},
   "source": [
    "## Commits"
   ]
  },
  {
   "cell_type": "code",
   "execution_count": null,
   "metadata": {},
   "outputs": [],
   "source": [
    "commitsByRepo = {}\n",
    "authors = set()\n",
    "for repo in repos:\n",
    "    commitsByRepo[repo.name] = {}\n",
    "    stats = repo.get_stats_contributors()\n",
    "    if stats is None:\n",
    "        continue\n",
    "    for stat in stats:\n",
    "        name = stat.author.name\n",
    "        if name is None:\n",
    "            name = stat.author.login\n",
    "        authors.add(name)\n",
    "        \n",
    "        cnt = commitsByRepo[repo.name].get(name, 0)\n",
    "        commitsByRepo[repo.name][name] = cnt + stat.total"
   ]
  },
  {
   "cell_type": "code",
   "execution_count": null,
   "metadata": {},
   "outputs": [],
   "source": [
    "repoNames = commitsByRepo.keys()\n",
    "\n",
    "contribData = [[0 for x in range(len(repoNames))] for y in range(len(authors))] \n",
    "\n",
    "for repoIndex, repoName in enumerate(repoNames):\n",
    "    for authorIndex, authorName in enumerate(authors):\n",
    "        contribData[authorIndex][repoIndex] = commitsByRepo[repoName].get(authorName, 0)\n",
    "        \n",
    "fig, ax = plt.subplots()\n",
    "ax.set_title(\"Number of commits by author and repo\")\n",
    "im = ax.imshow(contribData)\n",
    "\n",
    "# We want to show all ticks...\n",
    "ax.set_xticks(np.arange(len(repoNames)))\n",
    "ax.set_yticks(np.arange(len(authors)))\n",
    "# ... and label them with the respective list entries\n",
    "ax.set_xticklabels(repoNames)\n",
    "ax.set_yticklabels(authors)\n",
    "\n",
    "# Rotate the tick labels and set their alignment.\n",
    "plt.setp(ax.get_xticklabels(), rotation=45, ha=\"right\",\n",
    "         rotation_mode=\"anchor\")\n",
    "\n",
    "# Loop over data dimensions and create text annotations.\n",
    "for i in range(len(authors)):\n",
    "    for j in range(len(repoNames)):\n",
    "        text = ax.text(j, i, contribData[i][j],\n",
    "                       ha=\"center\", va=\"center\", color=\"w\")\n",
    "\n",
    "plt.show()"
   ]
  },
  {
   "cell_type": "markdown",
   "metadata": {},
   "source": [
    "## CI"
   ]
  },
  {
   "cell_type": "code",
   "execution_count": null,
   "metadata": {},
   "outputs": [],
   "source": [
    "total_ci_runs = 0\n",
    "successful_ci_runs = 0\n",
    "\n",
    "for repo in repos:\n",
    "    query_url = f\"https://api.github.com/repos/{org.login}/{repo.name}/actions/runs\"\n",
    "    params = {\n",
    "        \"status\": \"success\"\n",
    "    }\n",
    "    headers = {'Authorization': f'token {token}'}\n",
    "\n",
    "    result_all = requests.get(query_url, headers=headers).json()\n",
    "    result_success = requests.get(query_url, headers=headers, params=params).json()\n",
    "    \n",
    "    total_ci_runs += result_all[\"total_count\"]\n",
    "    successful_ci_runs += result_success[\"total_count\"]\n",
    "    \n",
    "\n",
    "print(f\"{total_ci_runs} CI jobs were run in total, {successful_ci_runs} were successful!\")"
   ]
  },
  {
   "cell_type": "code",
   "execution_count": null,
   "metadata": {},
   "outputs": [],
   "source": [
    "fig1, ax1 = plt.subplots()\n",
    "ax1.set_title(\"CI Job results\")\n",
    "ax1.pie([successful_ci_runs, total_ci_runs-successful_ci_runs], labels=[\"Success\", \"Fail\"], startangle=90)\n",
    "ax1.axis(\"equal\")\n",
    "plt.show()"
   ]
  }
 ],
 "metadata": {
  "kernelspec": {
   "display_name": "Python 3",
   "language": "python",
   "name": "python3"
  },
  "language_info": {
   "codemirror_mode": {
    "name": "ipython",
    "version": 3
   },
   "file_extension": ".py",
   "mimetype": "text/x-python",
   "name": "python",
   "nbconvert_exporter": "python",
   "pygments_lexer": "ipython3",
   "version": "3.8.3"
  }
 },
 "nbformat": 4,
 "nbformat_minor": 4
}
